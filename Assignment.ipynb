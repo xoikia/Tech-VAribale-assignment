{
 "cells": [
  {
   "cell_type": "markdown",
   "metadata": {},
   "source": []
  },
  {
   "cell_type": "code",
   "execution_count": 181,
   "metadata": {},
   "outputs": [
    {
     "data": {
      "text/plain": [
       "'jdl948(637%42$ba'"
      ]
     },
     "execution_count": 181,
     "metadata": {},
     "output_type": "execute_result"
    }
   ],
   "source": [
    "input= \"ab$24%736(849ldj\"\n",
    "                \n",
    "                          \n",
    "output_string = input_string[::-1]\n",
    "output_string"
   ]
  },
  {
   "cell_type": "code",
   "execution_count": 159,
   "metadata": {},
   "outputs": [
    {
     "data": {
      "text/plain": [
       "16"
      ]
     },
     "execution_count": 159,
     "metadata": {},
     "output_type": "execute_result"
    }
   ],
   "source": [
    "len(input_string)"
   ]
  },
  {
   "cell_type": "code",
   "execution_count": 150,
   "metadata": {},
   "outputs": [
    {
     "data": {
      "text/plain": [
       "False"
      ]
     },
     "execution_count": 150,
     "metadata": {},
     "output_type": "execute_result"
    }
   ],
   "source": [
    "'('.isalnum()"
   ]
  },
  {
   "cell_type": "code",
   "execution_count": 151,
   "metadata": {},
   "outputs": [
    {
     "name": "stdout",
     "output_type": "stream",
     "text": [
      "['a', 'b', '2', '4', '7', '3', '6', '8', '4', '9', 'l', 'd', 'j']\n",
      "['j', 'd', 'l', '9', '4', '8', '6', '3', '7', '4', '2', 'b', 'a']\n"
     ]
    }
   ],
   "source": [
    "empty = []\n",
    "for c in input_string:\n",
    "    if c.isalnum():\n",
    "        empty.append(c)\n",
    "        \n",
    "print(empty)\n",
    "print(empty[::-1])\n",
    "        \n",
    "    \n",
    "for i in len()"
   ]
  },
  {
   "cell_type": "code",
   "execution_count": 180,
   "metadata": {},
   "outputs": [
    {
     "data": {
      "text/plain": [
       "'ab$24%736(849ldj'"
      ]
     },
     "execution_count": 180,
     "metadata": {},
     "output_type": "execute_result"
    }
   ],
   "source": [
    "input_string"
   ]
  },
  {
   "cell_type": "code",
   "execution_count": 179,
   "metadata": {},
   "outputs": [],
   "source": [
    "length = len(input_string)\n",
    "\n",
    "end = length-1"
   ]
  },
  {
   "cell_type": "code",
   "execution_count": 172,
   "metadata": {},
   "outputs": [],
   "source": [
    "def swap(input_string):\n",
    "    \n",
    "    length = len(input_string)\n",
    "\n",
    "    end = length-1\n",
    "    \n",
    "    \n",
    "    while length< end :\n",
    "        p\n",
    "        if not input_string[length].isalnum():\n",
    "            length+=1\n",
    "        \n",
    "        elif not input_string[end].isalnum():\n",
    "            end-=1\n",
    "        \n",
    "        else:\n",
    "            x = input_string[length],\n",
    "            input_string[length] = input_string[end], \n",
    "            input_string[end] = x\n",
    "            \n",
    "            length+=1\n",
    "            end+=1\n",
    "        \n",
    "    return input_string\n",
    "        "
   ]
  },
  {
   "cell_type": "code",
   "execution_count": 171,
   "metadata": {},
   "outputs": [],
   "source": [
    "length = len(input_string)\n",
    "\n",
    "end = length-1"
   ]
  },
  {
   "cell_type": "code",
   "execution_count": 176,
   "metadata": {},
   "outputs": [],
   "source": [
    "while length< end :\n",
    "    print(length, end)\n",
    "    if not input_string[length].isalnum():\n",
    "        lenght+=1\n",
    "        print('x')\n",
    "        \n",
    "    elif not input_string[end].isalnum():\n",
    "        end-=1\n",
    "        print('Y')\n",
    "        \n",
    "    else:\n",
    "        print('z')\n",
    "        x = input_string[length],\n",
    "        input_string[length] = input_string[end], \n",
    "        input_string[end] = x\n",
    "            \n",
    "        length+=1\n",
    "        end+=1\n",
    "        "
   ]
  },
  {
   "cell_type": "code",
   "execution_count": null,
   "metadata": {},
   "outputs": [],
   "source": []
  },
  {
   "cell_type": "code",
   "execution_count": 173,
   "metadata": {},
   "outputs": [
    {
     "data": {
      "text/plain": [
       "'ab$24%736(849ldj'"
      ]
     },
     "execution_count": 173,
     "metadata": {},
     "output_type": "execute_result"
    }
   ],
   "source": [
    "swap(input_string)"
   ]
  },
  {
   "cell_type": "code",
   "execution_count": null,
   "metadata": {},
   "outputs": [],
   "source": []
  },
  {
   "cell_type": "code",
   "execution_count": null,
   "metadata": {},
   "outputs": [],
   "source": []
  },
  {
   "cell_type": "code",
   "execution_count": 162,
   "metadata": {},
   "outputs": [
    {
     "data": {
      "text/plain": [
       "False"
      ]
     },
     "execution_count": 162,
     "metadata": {},
     "output_type": "execute_result"
    }
   ],
   "source": [
    "not 'a'.isalnum()"
   ]
  },
  {
   "cell_type": "code",
   "execution_count": 144,
   "metadata": {},
   "outputs": [],
   "source": [
    "\n",
    "def reverseSting(text):\n",
    "    index = -1\n",
    " \n",
    "    # Loop from last index until half of the index    \n",
    "    for i in range(len(text)-1, int(len(text)/2), -1):\n",
    " \n",
    "        # match character is alphabet or not        \n",
    "        if text[i].isalnum():\n",
    "            temp = text[i]\n",
    "            while True:\n",
    "                index += 1\n",
    "                if text[index].isalpha():\n",
    "                    text[i] = text[index]\n",
    "                    text[index] = temp\n",
    "                    break\n",
    "    return text"
   ]
  },
  {
   "cell_type": "code",
   "execution_count": 145,
   "metadata": {},
   "outputs": [
    {
     "ename": "IndexError",
     "evalue": "list index out of range",
     "output_type": "error",
     "traceback": [
      "\u001b[1;31m---------------------------------------------------------------------------\u001b[0m",
      "\u001b[1;31mIndexError\u001b[0m                                Traceback (most recent call last)",
      "\u001b[1;32m<ipython-input-145-1e2af3158eac>\u001b[0m in \u001b[0;36m<module>\u001b[1;34m\u001b[0m\n\u001b[0;32m      1\u001b[0m \u001b[0mstring\u001b[0m \u001b[1;33m=\u001b[0m \u001b[1;34m\"ab$24%736(849ldj\"\u001b[0m\u001b[1;33m\u001b[0m\u001b[1;33m\u001b[0m\u001b[0m\n\u001b[0;32m      2\u001b[0m \u001b[1;33m\u001b[0m\u001b[0m\n\u001b[1;32m----> 3\u001b[1;33m \u001b[0mstring\u001b[0m \u001b[1;33m=\u001b[0m \u001b[0mreverseSting\u001b[0m\u001b[1;33m(\u001b[0m\u001b[0mlist\u001b[0m\u001b[1;33m(\u001b[0m\u001b[0mstring\u001b[0m\u001b[1;33m)\u001b[0m\u001b[1;33m)\u001b[0m\u001b[1;33m\u001b[0m\u001b[1;33m\u001b[0m\u001b[0m\n\u001b[0m\u001b[0;32m      4\u001b[0m \u001b[0mprint\u001b[0m \u001b[1;33m(\u001b[0m\u001b[1;34m\"Output string: \"\u001b[0m\u001b[1;33m,\u001b[0m \u001b[1;34m\"\"\u001b[0m\u001b[1;33m.\u001b[0m\u001b[0mjoin\u001b[0m\u001b[1;33m(\u001b[0m\u001b[0mstring\u001b[0m\u001b[1;33m)\u001b[0m\u001b[1;33m)\u001b[0m\u001b[1;33m\u001b[0m\u001b[1;33m\u001b[0m\u001b[0m\n",
      "\u001b[1;32m<ipython-input-144-4a9d34abe80b>\u001b[0m in \u001b[0;36mreverseSting\u001b[1;34m(text)\u001b[0m\n\u001b[0;32m     10\u001b[0m             \u001b[1;32mwhile\u001b[0m \u001b[1;32mTrue\u001b[0m\u001b[1;33m:\u001b[0m\u001b[1;33m\u001b[0m\u001b[1;33m\u001b[0m\u001b[0m\n\u001b[0;32m     11\u001b[0m                 \u001b[0mindex\u001b[0m \u001b[1;33m+=\u001b[0m \u001b[1;36m1\u001b[0m\u001b[1;33m\u001b[0m\u001b[1;33m\u001b[0m\u001b[0m\n\u001b[1;32m---> 12\u001b[1;33m                 \u001b[1;32mif\u001b[0m \u001b[0mtext\u001b[0m\u001b[1;33m[\u001b[0m\u001b[0mindex\u001b[0m\u001b[1;33m]\u001b[0m\u001b[1;33m.\u001b[0m\u001b[0misalpha\u001b[0m\u001b[1;33m(\u001b[0m\u001b[1;33m)\u001b[0m\u001b[1;33m:\u001b[0m\u001b[1;33m\u001b[0m\u001b[1;33m\u001b[0m\u001b[0m\n\u001b[0m\u001b[0;32m     13\u001b[0m                     \u001b[0mtext\u001b[0m\u001b[1;33m[\u001b[0m\u001b[0mi\u001b[0m\u001b[1;33m]\u001b[0m \u001b[1;33m=\u001b[0m \u001b[0mtext\u001b[0m\u001b[1;33m[\u001b[0m\u001b[0mindex\u001b[0m\u001b[1;33m]\u001b[0m\u001b[1;33m\u001b[0m\u001b[1;33m\u001b[0m\u001b[0m\n\u001b[0;32m     14\u001b[0m                     \u001b[0mtext\u001b[0m\u001b[1;33m[\u001b[0m\u001b[0mindex\u001b[0m\u001b[1;33m]\u001b[0m \u001b[1;33m=\u001b[0m \u001b[0mtemp\u001b[0m\u001b[1;33m\u001b[0m\u001b[1;33m\u001b[0m\u001b[0m\n",
      "\u001b[1;31mIndexError\u001b[0m: list index out of range"
     ]
    }
   ],
   "source": [
    "string = \"ab$24%736(849ldj\"\n",
    "\n",
    "string = reverseSting(list(string))\n",
    "print (\"Output string: \", \"\".join(string))"
   ]
  },
  {
   "cell_type": "markdown",
   "metadata": {},
   "source": [
    "**Question 4:**\n",
    "\n",
    "Given a collection like ‘list_a’ remove the elements with maximum frequency if multiple elements \n",
    "are of same frequency remove the element which comes first in the collection or the first element \n",
    "from left.\n",
    "\n",
    "Like for example list_a = [0,0,2,2,3,3,8,2,7]\n",
    "\n",
    "the resulting list is = [0,0,2,3,3,8,2,7"
   ]
  },
  {
   "cell_type": "code",
   "execution_count": 131,
   "metadata": {},
   "outputs": [],
   "source": [
    "list_a = [0,0,2,2,3,3,8,2,7]"
   ]
  },
  {
   "cell_type": "code",
   "execution_count": 132,
   "metadata": {},
   "outputs": [],
   "source": [
    "def remove_most_frequent_inlist(a_list):\n",
    "    \n",
    "    frequency = {}\n",
    "    \n",
    "    for element in a_list:\n",
    "        if element in frequency:\n",
    "            frequency[element] += 1\n",
    "        else:\n",
    "            frequency[element] = 1\n",
    "            \n",
    "    frequent_element = max(frequency, key = frequency.get)\n",
    "    a_list.remove(frequent_element)\n",
    "    return a_list"
   ]
  },
  {
   "cell_type": "code",
   "execution_count": 133,
   "metadata": {},
   "outputs": [
    {
     "data": {
      "text/plain": [
       "[0, 0, 2, 3, 3, 8, 2, 7]"
      ]
     },
     "execution_count": 133,
     "metadata": {},
     "output_type": "execute_result"
    }
   ],
   "source": [
    "remove_most_frequent_inlist(list_a)"
   ]
  },
  {
   "cell_type": "markdown",
   "metadata": {},
   "source": [
    "**Question 7**\n",
    "\n",
    "The given file \"order_details.csv\" contains the order ids, vendor ids, city and order quantity per \n",
    "transaction of some commodity. Find the following details from the data\n",
    "\n",
    "a. The number of unique cities\n",
    "\n",
    "b. The number of unique vendors\n",
    "\n",
    "c. The list of vendor ids operating in Guwahati\n",
    "\n",
    "d. Calculate the monthly average quantities of each city\n"
   ]
  },
  {
   "cell_type": "code",
   "execution_count": 39,
   "metadata": {},
   "outputs": [],
   "source": [
    "import pandas as pd \n",
    "import numpy as np\n",
    "import datetime as dt"
   ]
  },
  {
   "cell_type": "code",
   "execution_count": 40,
   "metadata": {},
   "outputs": [
    {
     "data": {
      "text/html": [
       "<div>\n",
       "<style scoped>\n",
       "    .dataframe tbody tr th:only-of-type {\n",
       "        vertical-align: middle;\n",
       "    }\n",
       "\n",
       "    .dataframe tbody tr th {\n",
       "        vertical-align: top;\n",
       "    }\n",
       "\n",
       "    .dataframe thead th {\n",
       "        text-align: right;\n",
       "    }\n",
       "</style>\n",
       "<table border=\"1\" class=\"dataframe\">\n",
       "  <thead>\n",
       "    <tr style=\"text-align: right;\">\n",
       "      <th></th>\n",
       "      <th>transaction_id</th>\n",
       "      <th>transaction_time</th>\n",
       "      <th>vendor_id</th>\n",
       "      <th>city</th>\n",
       "      <th>quantity</th>\n",
       "    </tr>\n",
       "  </thead>\n",
       "  <tbody>\n",
       "    <tr>\n",
       "      <th>0</th>\n",
       "      <td>bf83b73e-186b-11ec-a4db-c59ead35adf8</td>\n",
       "      <td>01-03-2021 00:02:00</td>\n",
       "      <td>e9993a3d-186a-11ec-a4db-c59ead35adf8</td>\n",
       "      <td>Ahmedabad</td>\n",
       "      <td>6079</td>\n",
       "    </tr>\n",
       "    <tr>\n",
       "      <th>1</th>\n",
       "      <td>bf83b73f-186b-11ec-a4db-c59ead35adf8</td>\n",
       "      <td>01-03-2021 00:14:38</td>\n",
       "      <td>e9993a3d-186a-11ec-a4db-c59ead35adf8</td>\n",
       "      <td>Ahmedabad</td>\n",
       "      <td>3428</td>\n",
       "    </tr>\n",
       "    <tr>\n",
       "      <th>2</th>\n",
       "      <td>bf83b740-186b-11ec-a4db-c59ead35adf8</td>\n",
       "      <td>01-03-2021 00:15:01</td>\n",
       "      <td>e9993a3f-186a-11ec-a4db-c59ead35adf8</td>\n",
       "      <td>Chandigarh</td>\n",
       "      <td>5461</td>\n",
       "    </tr>\n",
       "    <tr>\n",
       "      <th>3</th>\n",
       "      <td>bf83b741-186b-11ec-a4db-c59ead35adf8</td>\n",
       "      <td>01-03-2021 00:15:34</td>\n",
       "      <td>e9993a3f-186a-11ec-a4db-c59ead35adf8</td>\n",
       "      <td>Chandigarh</td>\n",
       "      <td>3447</td>\n",
       "    </tr>\n",
       "    <tr>\n",
       "      <th>4</th>\n",
       "      <td>bf83b742-186b-11ec-a4db-c59ead35adf8</td>\n",
       "      <td>01-03-2021 00:20:18</td>\n",
       "      <td>e9993a3e-186a-11ec-a4db-c59ead35adf8</td>\n",
       "      <td>Guwahati</td>\n",
       "      <td>2321</td>\n",
       "    </tr>\n",
       "  </tbody>\n",
       "</table>\n",
       "</div>"
      ],
      "text/plain": [
       "                         transaction_id     transaction_time  \\\n",
       "0  bf83b73e-186b-11ec-a4db-c59ead35adf8  01-03-2021 00:02:00   \n",
       "1  bf83b73f-186b-11ec-a4db-c59ead35adf8  01-03-2021 00:14:38   \n",
       "2  bf83b740-186b-11ec-a4db-c59ead35adf8  01-03-2021 00:15:01   \n",
       "3  bf83b741-186b-11ec-a4db-c59ead35adf8  01-03-2021 00:15:34   \n",
       "4  bf83b742-186b-11ec-a4db-c59ead35adf8  01-03-2021 00:20:18   \n",
       "\n",
       "                              vendor_id        city  quantity  \n",
       "0  e9993a3d-186a-11ec-a4db-c59ead35adf8   Ahmedabad      6079  \n",
       "1  e9993a3d-186a-11ec-a4db-c59ead35adf8   Ahmedabad      3428  \n",
       "2  e9993a3f-186a-11ec-a4db-c59ead35adf8  Chandigarh      5461  \n",
       "3  e9993a3f-186a-11ec-a4db-c59ead35adf8  Chandigarh      3447  \n",
       "4  e9993a3e-186a-11ec-a4db-c59ead35adf8    Guwahati      2321  "
      ]
     },
     "execution_count": 40,
     "metadata": {},
     "output_type": "execute_result"
    }
   ],
   "source": [
    "order_data = pd.read_csv(\"order_details.csv\")\n",
    "order_data.head()"
   ]
  },
  {
   "cell_type": "code",
   "execution_count": 41,
   "metadata": {},
   "outputs": [
    {
     "name": "stdout",
     "output_type": "stream",
     "text": [
      "<class 'pandas.core.frame.DataFrame'>\n",
      "RangeIndex: 45671 entries, 0 to 45670\n",
      "Data columns (total 5 columns):\n",
      " #   Column            Non-Null Count  Dtype \n",
      "---  ------            --------------  ----- \n",
      " 0   transaction_id    45671 non-null  object\n",
      " 1   transaction_time  45671 non-null  object\n",
      " 2   vendor_id         45671 non-null  object\n",
      " 3   city              45671 non-null  object\n",
      " 4   quantity          45671 non-null  int64 \n",
      "dtypes: int64(1), object(4)\n",
      "memory usage: 1.7+ MB\n"
     ]
    }
   ],
   "source": [
    "order_data.info()"
   ]
  },
  {
   "cell_type": "code",
   "execution_count": 42,
   "metadata": {},
   "outputs": [
    {
     "data": {
      "text/plain": [
       "10"
      ]
     },
     "execution_count": 42,
     "metadata": {},
     "output_type": "execute_result"
    }
   ],
   "source": [
    "# the  number of unique cities\n",
    "\n",
    "order_data['city'].nunique()"
   ]
  },
  {
   "cell_type": "code",
   "execution_count": 43,
   "metadata": {},
   "outputs": [
    {
     "data": {
      "text/plain": [
       "10"
      ]
     },
     "execution_count": 43,
     "metadata": {},
     "output_type": "execute_result"
    }
   ],
   "source": [
    "# the number of unique vendors\n",
    "\n",
    "order_data['vendor_id'].nunique()"
   ]
  },
  {
   "cell_type": "code",
   "execution_count": 44,
   "metadata": {},
   "outputs": [
    {
     "data": {
      "text/plain": [
       "2"
      ]
     },
     "execution_count": 44,
     "metadata": {},
     "output_type": "execute_result"
    }
   ],
   "source": [
    "# The list of vendor ids operating in Guwahati\n",
    "\n",
    "order_data[order_data['city']=='Guwahati']['vendor_id'].nunique()"
   ]
  },
  {
   "cell_type": "code",
   "execution_count": 46,
   "metadata": {},
   "outputs": [
    {
     "data": {
      "text/html": [
       "<div>\n",
       "<style scoped>\n",
       "    .dataframe tbody tr th:only-of-type {\n",
       "        vertical-align: middle;\n",
       "    }\n",
       "\n",
       "    .dataframe tbody tr th {\n",
       "        vertical-align: top;\n",
       "    }\n",
       "\n",
       "    .dataframe thead th {\n",
       "        text-align: right;\n",
       "    }\n",
       "</style>\n",
       "<table border=\"1\" class=\"dataframe\">\n",
       "  <thead>\n",
       "    <tr style=\"text-align: right;\">\n",
       "      <th></th>\n",
       "      <th>transaction_id</th>\n",
       "      <th>transaction_time</th>\n",
       "      <th>vendor_id</th>\n",
       "      <th>city</th>\n",
       "      <th>quantity</th>\n",
       "      <th>Month</th>\n",
       "    </tr>\n",
       "  </thead>\n",
       "  <tbody>\n",
       "    <tr>\n",
       "      <th>0</th>\n",
       "      <td>bf83b73e-186b-11ec-a4db-c59ead35adf8</td>\n",
       "      <td>2021-01-03 00:02:00</td>\n",
       "      <td>e9993a3d-186a-11ec-a4db-c59ead35adf8</td>\n",
       "      <td>Ahmedabad</td>\n",
       "      <td>6079</td>\n",
       "      <td>Jan</td>\n",
       "    </tr>\n",
       "    <tr>\n",
       "      <th>1</th>\n",
       "      <td>bf83b73f-186b-11ec-a4db-c59ead35adf8</td>\n",
       "      <td>2021-01-03 00:14:38</td>\n",
       "      <td>e9993a3d-186a-11ec-a4db-c59ead35adf8</td>\n",
       "      <td>Ahmedabad</td>\n",
       "      <td>3428</td>\n",
       "      <td>Jan</td>\n",
       "    </tr>\n",
       "    <tr>\n",
       "      <th>2</th>\n",
       "      <td>bf83b740-186b-11ec-a4db-c59ead35adf8</td>\n",
       "      <td>2021-01-03 00:15:01</td>\n",
       "      <td>e9993a3f-186a-11ec-a4db-c59ead35adf8</td>\n",
       "      <td>Chandigarh</td>\n",
       "      <td>5461</td>\n",
       "      <td>Jan</td>\n",
       "    </tr>\n",
       "    <tr>\n",
       "      <th>3</th>\n",
       "      <td>bf83b741-186b-11ec-a4db-c59ead35adf8</td>\n",
       "      <td>2021-01-03 00:15:34</td>\n",
       "      <td>e9993a3f-186a-11ec-a4db-c59ead35adf8</td>\n",
       "      <td>Chandigarh</td>\n",
       "      <td>3447</td>\n",
       "      <td>Jan</td>\n",
       "    </tr>\n",
       "    <tr>\n",
       "      <th>4</th>\n",
       "      <td>bf83b742-186b-11ec-a4db-c59ead35adf8</td>\n",
       "      <td>2021-01-03 00:20:18</td>\n",
       "      <td>e9993a3e-186a-11ec-a4db-c59ead35adf8</td>\n",
       "      <td>Guwahati</td>\n",
       "      <td>2321</td>\n",
       "      <td>Jan</td>\n",
       "    </tr>\n",
       "  </tbody>\n",
       "</table>\n",
       "</div>"
      ],
      "text/plain": [
       "                         transaction_id    transaction_time  \\\n",
       "0  bf83b73e-186b-11ec-a4db-c59ead35adf8 2021-01-03 00:02:00   \n",
       "1  bf83b73f-186b-11ec-a4db-c59ead35adf8 2021-01-03 00:14:38   \n",
       "2  bf83b740-186b-11ec-a4db-c59ead35adf8 2021-01-03 00:15:01   \n",
       "3  bf83b741-186b-11ec-a4db-c59ead35adf8 2021-01-03 00:15:34   \n",
       "4  bf83b742-186b-11ec-a4db-c59ead35adf8 2021-01-03 00:20:18   \n",
       "\n",
       "                              vendor_id        city  quantity Month  \n",
       "0  e9993a3d-186a-11ec-a4db-c59ead35adf8   Ahmedabad      6079   Jan  \n",
       "1  e9993a3d-186a-11ec-a4db-c59ead35adf8   Ahmedabad      3428   Jan  \n",
       "2  e9993a3f-186a-11ec-a4db-c59ead35adf8  Chandigarh      5461   Jan  \n",
       "3  e9993a3f-186a-11ec-a4db-c59ead35adf8  Chandigarh      3447   Jan  \n",
       "4  e9993a3e-186a-11ec-a4db-c59ead35adf8    Guwahati      2321   Jan  "
      ]
     },
     "execution_count": 46,
     "metadata": {},
     "output_type": "execute_result"
    }
   ],
   "source": [
    "order_data['transaction_time'] = pd.to_datetime(order_data['transaction_time'])\n",
    "order_data['Month'] = order_data['transaction_time'].dt.strftime('%b')\n",
    "order_data.head()"
   ]
  },
  {
   "cell_type": "code",
   "execution_count": 55,
   "metadata": {},
   "outputs": [
    {
     "data": {
      "text/plain": [
       "Month  city      \n",
       "Apr    Ahmedabad     6068.906412\n",
       "       Bangalore     6047.206081\n",
       "       Bhopal        6098.687398\n",
       "       Chandigarh    6005.118881\n",
       "       Chennai       5994.659051\n",
       "                        ...     \n",
       "Sep    Delhi         5789.537931\n",
       "       Guwahati      5980.439490\n",
       "       Kolkata       6216.842105\n",
       "       Mumbai        6338.162162\n",
       "       Noida         5746.679245\n",
       "Name: quantity, Length: 120, dtype: float64"
      ]
     },
     "execution_count": 55,
     "metadata": {},
     "output_type": "execute_result"
    }
   ],
   "source": [
    "# Calculate the monthly average quantities of each city\n",
    "\n",
    "order_data.groupby(['Month','city'])['quantity'].mean()"
   ]
  },
  {
   "cell_type": "markdown",
   "metadata": {},
   "source": [
    "**Question 3:**\n",
    "\n",
    "Given a string reverse position of all alphanumeric character but maintain position of all the \n",
    "special symbols and display the result. Example: \n",
    "\n",
    "input_string = ‘ab$24%736(849ldj’ \n",
    "\n",
    "the required \n",
    "\n",
    "output string should be = ‘jd$l9%486(3742ba’"
   ]
  },
  {
   "cell_type": "code",
   "execution_count": 183,
   "metadata": {},
   "outputs": [],
   "source": [
    "def swap(input_string):\n",
    "    \n",
    "    length = len(input_string)\n",
    "\n",
    "    end = length-1\n",
    "    \n",
    "    \n",
    "    while length< end :\n",
    "        p\n",
    "        if not input_string[length].isalnum():\n",
    "            length+=1\n",
    "        \n",
    "        elif not input_string[end].isalnum():\n",
    "            end-=1\n",
    "        \n",
    "        else:\n",
    "            x = input_string[length],\n",
    "            input_string[length] = input_string[end], \n",
    "            input_string[end] = x\n",
    "            \n",
    "            length+=1\n",
    "            end+=1\n",
    "        \n",
    "    return input_string"
   ]
  },
  {
   "cell_type": "code",
   "execution_count": null,
   "metadata": {},
   "outputs": [],
   "source": [
    "i = ‘ab$24%736(849ldj\""
   ]
  },
  {
   "cell_type": "code",
   "execution_count": null,
   "metadata": {},
   "outputs": [],
   "source": [
    "swap()"
   ]
  }
 ],
 "metadata": {
  "kernelspec": {
   "display_name": "Python 3",
   "language": "python",
   "name": "python3"
  },
  "language_info": {
   "codemirror_mode": {
    "name": "ipython",
    "version": 3
   },
   "file_extension": ".py",
   "mimetype": "text/x-python",
   "name": "python",
   "nbconvert_exporter": "python",
   "pygments_lexer": "ipython3",
   "version": "3.8.3"
  }
 },
 "nbformat": 4,
 "nbformat_minor": 4
}
